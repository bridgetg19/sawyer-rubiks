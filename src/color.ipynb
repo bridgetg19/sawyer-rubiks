{
 "cells": [
  {
   "cell_type": "code",
   "execution_count": 1,
   "metadata": {},
   "outputs": [],
   "source": [
    "import cv2\n",
    "import numpy as np\n",
    "import kociemba\n",
    "import matplotlib.pyplot as plt"
   ]
  },
  {
   "cell_type": "code",
   "execution_count": 2,
   "metadata": {},
   "outputs": [],
   "source": [
    "# global variables\n",
    "x1, x2 = 325, 955\n",
    "y1, y2 = 45, 675\n",
    "cell_size = 210\n",
    "cx = 640\n",
    "cy = 360"
   ]
  },
  {
   "cell_type": "code",
   "execution_count": 2,
   "metadata": {},
   "outputs": [],
   "source": [
    "def get_cell_centers():\n",
    "    cell_centers=[]\n",
    "\n",
    "    cell_centers.append((cx - cell_size, cy - cell_size)) #top left\n",
    "    cell_centers.append((cx, cy - cell_size)) #top center\n",
    "    cell_centers.append((cx + cell_size, cy - cell_size)) #top right\n",
    "    cell_centers.append((cx - cell_size, cy)) #left middle\n",
    "    cell_centers.append((cx, cy)) #center\n",
    "    cell_centers.append((cx + cell_size, cy)) #right middle\n",
    "    cell_centers.append((cx - cell_size, cy + cell_size)) #bottom left\n",
    "    cell_centers.append((cx, cy + cell_size)) #bottomn center\n",
    "    cell_centers.append((cx + cell_size, cy + cell_size)) #bottom right\n",
    "\n",
    "    return cell_centers"
   ]
  },
  {
   "cell_type": "code",
   "execution_count": 7,
   "metadata": {},
   "outputs": [],
   "source": [
    "def draw_template(frame):\n",
    "    color=(0,0,255)\n",
    "    thickness = 5\n",
    "    color_blue = (255,0,0)\n",
    "\n",
    "    cv2.line(frame, (x1,y1), (x2,y1), color, thickness) #top\n",
    "    cv2.line(frame, (x1,y1), (x1,y2), color, thickness) #left\n",
    "    cv2.line(frame, (x1,y2), (x2,y2), color, thickness) #bottom\n",
    "    cv2.line(frame, (x2,y1), (x2,y2), color, thickness) #right\n",
    "\n",
    "    cv2.line(frame, (x1, y1+cell_size), (x2, y1+cell_size), color, thickness) #horizontal 1\n",
    "    cv2.line(frame, (x1, y1+(cell_size*2)), (x2, y1+(cell_size*2)), color, thickness) #horizontal 2\n",
    "    cv2.line(frame, (x1+cell_size, y1), (x1+cell_size, y2), color, thickness) #vertical 1\n",
    "    cv2.line(frame, (x1+(cell_size*2), y1), (x1+(cell_size*2), y2), color, thickness) #vertical 2\n",
    "\n",
    "    height, width, _ = frame.shape\n",
    "    cx = width // 2\n",
    "    cy = height // 2\n",
    "\n",
    "    # cv2.circle(image, center_coordinates, radius, color, thickness)\n",
    "    cv2.circle(frame, (cx, cy), 10, color_blue, thickness)\n",
    "    cv2.circle(frame, (cx + cell_size, cy), 10, color_blue, thickness)\n",
    "    cv2.circle(frame, (cx - cell_size, cy), 10, color_blue, thickness)\n",
    "    cv2.circle(frame, (cx, cy + cell_size), 10, color_blue, thickness)\n",
    "    cv2.circle(frame, (cx + cell_size, cy + cell_size), 10, color_blue, thickness)\n",
    "    cv2.circle(frame, (cx - cell_size, cy + cell_size), 10, color_blue, thickness)\n",
    "    cv2.circle(frame, (cx, cy - cell_size), 10, color_blue, thickness)\n",
    "    cv2.circle(frame, (cx + cell_size, cy - cell_size), 10, color_blue, thickness)\n",
    "    cv2.circle(frame, (cx - cell_size, cy - cell_size), 10, color_blue, thickness)\n",
    "\n",
    "\n",
    "  \n",
    "    plt.imshow(frame)\n",
    "    plt.show()\n",
    "    "
   ]
  },
  {
   "cell_type": "code",
   "execution_count": null,
   "metadata": {},
   "outputs": [],
   "source": []
  },
  {
   "attachments": {},
   "cell_type": "markdown",
   "metadata": {},
   "source": [
    "new code"
   ]
  },
  {
   "cell_type": "code",
   "execution_count": 2,
   "metadata": {},
   "outputs": [],
   "source": [
    "import cv2\n",
    "import numpy as np\n",
    "import kociemba\n",
    "import matplotlib.pyplot as plt"
   ]
  },
  {
   "cell_type": "code",
   "execution_count": 3,
   "metadata": {},
   "outputs": [],
   "source": [
    "def get_cell_centers():\n",
    "    cell_centers=[]\n",
    "\n",
    "    cell_centers.append((cx - cell_size, cy - cell_size)) #top left\n",
    "    cell_centers.append((cx, cy - cell_size)) #top center\n",
    "    cell_centers.append((cx + cell_size, cy - cell_size)) #top right\n",
    "    cell_centers.append((cx - cell_size, cy)) #left middle\n",
    "    cell_centers.append((cx, cy)) #center\n",
    "    cell_centers.append((cx + cell_size, cy)) #right middle\n",
    "    cell_centers.append((cx - cell_size, cy + cell_size)) #bottom left\n",
    "    cell_centers.append((cx, cy + cell_size)) #bottomn center\n",
    "    cell_centers.append((cx + cell_size, cy + cell_size)) #bottom right\n",
    "\n",
    "    return cell_centers"
   ]
  },
  {
   "cell_type": "code",
   "execution_count": 4,
   "metadata": {},
   "outputs": [],
   "source": [
    "#changing thE TEMPLATE\n",
    "x1, x2 = 425, 900\n",
    "y1, y2 = 150, 600\n",
    "cell_size = 158\n",
    "cx = 662\n",
    "cy = 382\n",
    "\n",
    "def draw_template(frame):\n",
    "    thickness = 5\n",
    "    color = (0,255,0)\n",
    "\n",
    "    # cv2.circle(image, center_coordinates, radius, color, thickness)\n",
    "    #top row\n",
    "    cv2.circle(frame, (cx - cell_size - 30, cy - cell_size - 30), 10, color, thickness)\n",
    "    cv2.circle(frame, (cx, cy - cell_size - 30), 10, color, thickness)\n",
    "    cv2.circle(frame, (cx + cell_size + 30, cy - cell_size - 30), 10, color, thickness)\n",
    "\n",
    "    #middle row\n",
    "    cv2.circle(frame, (cx - cell_size - 30, cy), 10, color, thickness)\n",
    "    cv2.circle(frame, (cx, cy), 10, color, thickness)\n",
    "    cv2.circle(frame, (cx + cell_size + 30, cy), 10, color, thickness)\n",
    "\n",
    "    #bottom row\n",
    "    cv2.circle(frame, (cx - cell_size - 30, cy + cell_size + 30), 10, color, thickness)\n",
    "    cv2.circle(frame, (cx, cy + cell_size + 30), 10, color, thickness)\n",
    "    cv2.circle(frame, (cx + cell_size + 30, cy + cell_size + 30), 10, color, thickness)\n",
    "\n",
    "\n",
    "  \n",
    "    # plt.imshow(frame)\n",
    "    # plt.show()\n",
    "    "
   ]
  },
  {
   "cell_type": "code",
   "execution_count": 5,
   "metadata": {},
   "outputs": [],
   "source": [
    "draw_template(cv2.imread(\"img/face_1.png\"))"
   ]
  },
  {
   "cell_type": "code",
   "execution_count": null,
   "metadata": {},
   "outputs": [],
   "source": []
  },
  {
   "cell_type": "code",
   "execution_count": 6,
   "metadata": {},
   "outputs": [],
   "source": [
    "def start_video():\n",
    "    cap = cv2.VideoCapture(0)\n",
    "    cap.set(cv2.CAP_PROP_FRAME_WIDTH, 1280)\n",
    "    cap.set(cv2.CAP_PROP_FRAME_HEIGHT, 720)\n",
    "\n",
    "    face_count  = 0\n",
    "\n",
    "    while True:\n",
    "        _, frame = cap.read()\n",
    "        hsv_frame = cv2.cvtColor(frame, cv2.COLOR_BGR2HSV)\n",
    "        cell_centers = get_cell_centers()\n",
    "\n",
    "        draw_template(frame)\n",
    "        \n",
    "        cv2.imshow('frame', frame)\n",
    "\n",
    "        #take ss\n",
    "        key = cv2.waitKey(1)\n",
    "        if key == ord('s'):\n",
    "            img_name = \"img/face_\" + str(face_count + 1) + \".png\"\n",
    "            cv2.imwrite(img_name, frame)\n",
    "            print(\"saving file\", img_name)\n",
    "\n",
    "            face_count += 1\n",
    "\n",
    "        if face_count == 6:\n",
    "            print(\"got all sides\")\n",
    "            break\n",
    "\n",
    "        #quit out\n",
    "        key = cv2.waitKey(1) \n",
    "        if key == ord('q'):\n",
    "            break\n",
    "\n",
    "    cap.release()\n",
    "    cv2.destroyAllWindows()\n",
    "\n",
    "    return cell_centers"
   ]
  },
  {
   "cell_type": "code",
   "execution_count": 7,
   "metadata": {},
   "outputs": [
    {
     "name": "stdout",
     "output_type": "stream",
     "text": [
      "saving file img/face_1.png\n",
      "saving file img/face_2.png\n",
      "saving file img/face_3.png\n",
      "saving file img/face_4.png\n",
      "saving file img/face_5.png\n",
      "saving file img/face_6.png\n",
      "got all sides\n"
     ]
    },
    {
     "data": {
      "text/plain": [
       "[(504, 224),\n",
       " (662, 224),\n",
       " (820, 224),\n",
       " (504, 382),\n",
       " (662, 382),\n",
       " (820, 382),\n",
       " (504, 540),\n",
       " (662, 540),\n",
       " (820, 540)]"
      ]
     },
     "execution_count": 7,
     "metadata": {},
     "output_type": "execute_result"
    },
    {
     "ename": "",
     "evalue": "",
     "output_type": "error",
     "traceback": [
      "\u001b[1;31mThe Kernel crashed while executing code in the the current cell or a previous cell. Please review the code in the cell(s) to identify a possible cause of the failure. Click <a href='https://aka.ms/vscodeJupyterKernelCrash'>here</a> for more info. View Jupyter <a href='command:jupyter.viewOutput'>log</a> for further details."
     ]
    }
   ],
   "source": [
    "\n",
    "start_video()"
   ]
  },
  {
   "cell_type": "code",
   "execution_count": 39,
   "metadata": {},
   "outputs": [],
   "source": [
    "def get_color(hsv):\n",
    "    hue = hsv[0]\n",
    "    saturation = hsv[1]\n",
    "    value = hsv[2]\n",
    "\n",
    "    color = None\n",
    "    if hue < 5:\n",
    "        color = \"R\"\n",
    "    elif hue < 22:\n",
    "        color = \"O\"\n",
    "    elif hue < 33:\n",
    "        color = \"Y\"\n",
    "    elif hue < 90:\n",
    "        color = \"G\"\n",
    "    elif hue < 131:\n",
    "        color = \"B\"\n",
    "    elif hue < 180:\n",
    "        color = \"R\"\n",
    "    else:\n",
    "        color = \"W\"\n",
    "\n",
    "    if saturation < 65:\n",
    "        color = \"W\"\n",
    "\n",
    "    return color"
   ]
  },
  {
   "cell_type": "code",
   "execution_count": 40,
   "metadata": {},
   "outputs": [],
   "source": [
    "def color_detect(frame, cell_centers):\n",
    "    cell_colors = []\n",
    "    hue_values = []\n",
    "    hsv_frame = cv2.cvtColor(frame, cv2.COLOR_BGR2HSV)\n",
    "\n",
    "    c00 = hsv_frame[ cell_centers[0][1], cell_centers[0][0]]\n",
    "    color00 = get_color(c00)\n",
    "\n",
    "    c01 = hsv_frame[ cell_centers[1][1], cell_centers[1][0]]\n",
    "    color01 = get_color(c01)\n",
    "\n",
    "    c02 = hsv_frame[ cell_centers[2][1], cell_centers[2][0]]\n",
    "    color02 = get_color(c02)\n",
    "\n",
    "    c10 = hsv_frame[ cell_centers[3][1], cell_centers[3][0]]\n",
    "    color10 = get_color(c10)\n",
    "\n",
    "    c11 = hsv_frame[ cell_centers[4][1], cell_centers[4][0]]\n",
    "    color11 = get_color(c11)\n",
    "\n",
    "    c12 = hsv_frame[cell_centers[5][1], cell_centers[5][0]]\n",
    "    color12 = get_color(c12)\n",
    "\n",
    "    c20 = hsv_frame[ cell_centers[6][1], cell_centers[6][0]]\n",
    "    color20 = get_color(c20)\n",
    "\n",
    "    c21 = hsv_frame[ cell_centers[7][1], cell_centers[7][0]]\n",
    "    color21 = get_color(c21)\n",
    "\n",
    "    c22 = hsv_frame[ cell_centers[8][1], cell_centers[8][0]]\n",
    "    color22 = get_color(c22)\n",
    "\n",
    "    cell_colors.append(color00)\n",
    "    cell_colors.append(color01)\n",
    "    cell_colors.append(color02)\n",
    "    cell_colors.append(color10)\n",
    "    cell_colors.append(color11)\n",
    "    cell_colors.append(color12)\n",
    "    cell_colors.append(color20)\n",
    "    cell_colors.append(color21)\n",
    "    cell_colors.append(color22)\n",
    "\n",
    "    hue_values.append(c00)\n",
    "    hue_values.append(c01)\n",
    "    hue_values.append(c02)\n",
    "    hue_values.append(c10)\n",
    "    hue_values.append(c11)\n",
    "    hue_values.append(c12)\n",
    "    hue_values.append(c20)\n",
    "    hue_values.append(c21)\n",
    "    hue_values.append(c22)\n",
    "\n",
    "    return cell_colors, hue_values"
   ]
  },
  {
   "cell_type": "code",
   "execution_count": 41,
   "metadata": {},
   "outputs": [],
   "source": [
    "cell_centers = get_cell_centers()\n",
    "\n",
    "f1, h1 = color_detect(cv2.imread('img/face_1.png'), cell_centers)\n",
    "f2, h2 = color_detect(cv2.imread('img/face_2.png'), cell_centers)\n",
    "f3, h3 = color_detect(cv2.imread('img/face_3.png'), cell_centers)\n",
    "f4, h4 = color_detect(cv2.imread('img/face_4.png'), cell_centers)\n",
    "f5, h5 = color_detect(cv2.imread('img/face_5.png'), cell_centers)\n",
    "f6, h6 = color_detect(cv2.imread('img/face_6.png'), cell_centers)\n",
    "\n",
    "f1[4] = 'W'"
   ]
  },
  {
   "cell_type": "code",
   "execution_count": 42,
   "metadata": {},
   "outputs": [
    {
     "data": {
      "text/plain": [
       "['W', 'W', 'W', 'W', 'W', 'W', 'W', 'W', 'W']"
      ]
     },
     "execution_count": 42,
     "metadata": {},
     "output_type": "execute_result"
    }
   ],
   "source": [
    "f1"
   ]
  },
  {
   "cell_type": "code",
   "execution_count": 43,
   "metadata": {},
   "outputs": [
    {
     "name": "stdout",
     "output_type": "stream",
     "text": [
      "        - - - - - \n",
      "        | W W W |\n",
      "        | W W W |\n",
      "        | W W W |\n",
      "        - - - - - \n",
      "- - - - - - - - - - - - - - - - - \n",
      "| O O O | G G G | R R R | B B B |\n",
      "| O O O | G G G | R R R | B B B |\n",
      "| O O O | G G G | R R R | B B B |\n",
      "- - - - - - - - - - - - - - - - - \n",
      "        - - - - - \n",
      "        | Y Y Y |\n",
      "        | Y Y Y |\n",
      "        | Y Y Y |\n",
      "        - - - - - \n"
     ]
    }
   ],
   "source": [
    "#prints out flattened out version of cube\n",
    "def chunk_face(f):\n",
    "    return [f[x:x+3] for x in range(0, len(f), 3)]\n",
    "\n",
    "def net_cube(f1, f2, f3, f4, f5, f6):\n",
    "    top = chunk_face(f1)\n",
    "    print(\" \"*7, \"- \"*5)\n",
    "    print(\" \"*7, \"|\", top[0][0], top[0][1], top[0][2], \"|\")\n",
    "    print(\" \"*7, \"|\", top[1][0], top[1][1], top[1][2], \"|\")\n",
    "    print(\" \"*7, \"|\", top[2][0], top[2][1], top[2][2], \"|\")\n",
    "    print(\" \"*7, \"- \"*5)\n",
    "\n",
    "    left = chunk_face(f5)\n",
    "    front = chunk_face(f3)\n",
    "    right = chunk_face(f2)\n",
    "    back = chunk_face(f6)\n",
    "    print(\"- \"*17)\n",
    "    print(\"|\", left[0][0], left[0][1], left[0][2], \"|\", front[0][0], front[0][1], front[0][2], \"|\", right[0][0], right[0][1], right[0][2], \"|\", back[0][0], back[0][1], back[0][2], \"|\")\n",
    "    print(\"|\", left[1][0], left[1][1], left[1][2], \"|\", front[1][0], front[1][1], front[1][2], \"|\", right[1][0], right[1][1], right[1][2], \"|\", back[1][0], back[1][1], back[1][2], \"|\")\n",
    "    print(\"|\",left[2][0], left[2][1], left[2][2], \"|\", front[2][0], front[2][1], front[2][2], \"|\", right[2][0], right[2][1], right[2][2], \"|\", back[2][0], back[2][1], back[2][2], \"|\")\n",
    "    print(\"- \"*17)\n",
    "\n",
    "    down = chunk_face(f4)\n",
    "    print(\" \"*7, \"- \"*5)\n",
    "    print(\" \"*7, \"|\", down[0][0], down[0][1], down[0][2], \"|\")\n",
    "    print(\" \"*7, \"|\", down[1][0], down[1][1], down[1][2], \"|\")\n",
    "    print(\" \"*7, \"|\", down[2][0], down[2][1], down[2][2], \"|\")\n",
    "    print(\" \"*7, \"- \"*5)\n",
    "\n",
    "\n",
    "\n",
    "\n",
    "net_cube(f1, f2, f3, f4, f5, f6)"
   ]
  },
  {
   "cell_type": "code",
   "execution_count": 44,
   "metadata": {},
   "outputs": [
    {
     "data": {
      "text/plain": [
       "['W', 'W', 'W', 'W', 'W', 'W', 'W', 'W', 'W']"
      ]
     },
     "execution_count": 44,
     "metadata": {},
     "output_type": "execute_result"
    }
   ],
   "source": [
    "f1"
   ]
  },
  {
   "cell_type": "code",
   "execution_count": 45,
   "metadata": {},
   "outputs": [
    {
     "data": {
      "text/plain": [
       "[array([117,  44, 255], dtype=uint8),\n",
       " array([116,  48, 255], dtype=uint8),\n",
       " array([117,  53, 249], dtype=uint8),\n",
       " array([114,  47, 255], dtype=uint8),\n",
       " array([111, 255, 141], dtype=uint8),\n",
       " array([117,  61, 252], dtype=uint8),\n",
       " array([115,  49, 255], dtype=uint8),\n",
       " array([116,  56, 255], dtype=uint8),\n",
       " array([116,  61, 243], dtype=uint8)]"
      ]
     },
     "execution_count": 45,
     "metadata": {},
     "output_type": "execute_result"
    },
    {
     "ename": "",
     "evalue": "",
     "output_type": "error",
     "traceback": [
      "\u001b[1;31mThe Kernel crashed while executing code in the the current cell or a previous cell. Please review the code in the cell(s) to identify a possible cause of the failure. Click <a href='https://aka.ms/vscodeJupyterKernelCrash'>here</a> for more info. View Jupyter <a href='command:jupyter.viewOutput'>log</a> for further details."
     ]
    }
   ],
   "source": [
    "h1"
   ]
  },
  {
   "cell_type": "code",
   "execution_count": null,
   "metadata": {},
   "outputs": [],
   "source": []
  },
  {
   "cell_type": "code",
   "execution_count": 32,
   "metadata": {},
   "outputs": [
    {
     "name": "stdout",
     "output_type": "stream",
     "text": [
      "        - - - - - \n",
      "        | R W W |\n",
      "        | R W W |\n",
      "        | B B B |\n",
      "        - - - - - \n",
      "- - - - - - - - - - - - - - - - - \n",
      "| B B O | W W W | R G G | R R Y |\n",
      "| O O O | W G G | R R Y | B B Y |\n",
      "| O O O | W G G | R R Y | B B Y |\n",
      "- - - - - - - - - - - - - - - - - \n",
      "        - - - - - \n",
      "        | G Y Y |\n",
      "        | G Y Y |\n",
      "        | G O O |\n",
      "        - - - - - \n",
      "original string:  RWWRWWBBBRGGRRYRRYWWWWGGWGGGYYGYYGOOBBOOOOOOORRYBBYBBY\n",
      "kociemba.solve('RUURUUBBBRFFRRDRRDUUUUFFUFFFDDFDDFLLBBLLLLLLLRRDBBDBBD')\n"
     ]
    },
    {
     "data": {
      "text/plain": [
       "\"U L' B'\""
      ]
     },
     "execution_count": 32,
     "metadata": {},
     "output_type": "execute_result"
    }
   ],
   "source": [
    "f1 = ['R','W','W','R','W','W','B','B','B']\n",
    "f2 = ['R','G','G','R','R','Y','R','R','Y']\n",
    "f3 = ['W','W','W','W','G','G','W','G','G']\n",
    "f4 = ['G','Y','Y','G','Y','Y','G','O','O']\n",
    "f5 = ['B','B','O','O','O','O','O','O','O']\n",
    "f6 = ['R','R','Y','B','B','Y','B','B','Y']\n",
    "\n",
    "net_cube(f1, f2, f3, f4, f5, f6)\n",
    "\n",
    "kociemba_input = ''\n",
    "kociemba_input += list_to_string(f1)\n",
    "kociemba_input += list_to_string(f2)\n",
    "kociemba_input += list_to_string(f3)\n",
    "kociemba_input += list_to_string(f4)\n",
    "kociemba_input += list_to_string(f5)\n",
    "kociemba_input += list_to_string(f6)\n",
    "\n",
    "rubiks_face = translate_string(kociemba_input)\n",
    "kociemba.solve(rubiks_face)"
   ]
  },
  {
   "cell_type": "code",
   "execution_count": null,
   "metadata": {},
   "outputs": [],
   "source": []
  },
  {
   "cell_type": "code",
   "execution_count": 31,
   "metadata": {},
   "outputs": [],
   "source": [
    "def list_to_string(l):\n",
    "    return ''.join(i for i in l)\n",
    "\n",
    "def validate_string(str):\n",
    "\tif len(str) != 54:\n",
    "\t\tprint(\"string isn't long enough\")\n",
    "\t\treturn False\n",
    "\n",
    "\tif str.count('U') != 9:\n",
    "\t\tprint(\"not enough U's\")\n",
    "\t\treturn False\n",
    "\n",
    "\tif str.count('R') != 9:\n",
    "\t\tprint(\"not enough R's\")\n",
    "\t\treturn False\n",
    "\n",
    "\tif str.count('F') != 9:\n",
    "\t\tprint(\"not enough F's\")\n",
    "\t\treturn False\n",
    "\n",
    "\tif str.count('D') != 9:\n",
    "\t\tprint(\"not enough D's\")\n",
    "\t\treturn False\n",
    "\n",
    "\tif str.count('L') != 9:\n",
    "\t\tprint(\"not enough L's\")\n",
    "\t\treturn False\n",
    "\n",
    "\tif str.count('B') != 9:\n",
    "\t\tprint(\"not enough B's\")\n",
    "\t\treturn False\n",
    "\n",
    "\treturn True\n",
    "\n",
    "\n",
    "\n",
    "def translate_string(rubiks_str):\n",
    "# def translate_string():\n",
    "\tmydict = {  ord(\"W\"):ord(\"U\"), \n",
    "\t   \t\t\tord(\"Y\"):ord(\"D\"),\n",
    "\t\t\t\tord(\"R\"):ord(\"R\"),\n",
    "\t\t\t\tord(\"O\"):ord(\"L\"), \n",
    "\t\t\t\tord(\"G\"):ord(\"F\"), \n",
    "\t\t\t\tord(\"B\"):ord(\"B\") }\n",
    "\n",
    "\tprint(\"original string: \", rubiks_str)\n",
    "\n",
    "\tinput_string = rubiks_str.translate(mydict)\n",
    "\n",
    "\tif not validate_string(input_string):\n",
    "\t\tprint(\"not valid string\")\n",
    "\t\texit(1)\n",
    "\n",
    "\tprint(\"kociemba.solve('\"+ input_string + \"')\")\n",
    "\n",
    "\treturn input_string\n",
    "\n",
    "# rubiks_face = translate_string()\n",
    "# kociemba.solve(rubiks_face)\n",
    "\n"
   ]
  },
  {
   "cell_type": "code",
   "execution_count": 24,
   "metadata": {},
   "outputs": [],
   "source": [
    "kociemba_input = ''\n",
    "kociemba_input += list_to_string(f1)\n",
    "kociemba_input += list_to_string(f2)\n",
    "kociemba_input += list_to_string(f3)\n",
    "kociemba_input += list_to_string(f4)\n",
    "kociemba_input += list_to_string(f5)\n",
    "kociemba_input += list_to_string(f6)"
   ]
  },
  {
   "cell_type": "code",
   "execution_count": 25,
   "metadata": {},
   "outputs": [
    {
     "name": "stdout",
     "output_type": "stream",
     "text": [
      "original string:  WBGWWRRORGBWOROORYYYWGGWOWYBGGGYYBROBBGYORRYWOORGBBBWY\n",
      "kociemba.solve('UBFUURRLRFBULRLLRDDDUFFULUDBFFFDDBRLBBFDLRRDULLRFBBBUD')\n"
     ]
    },
    {
     "data": {
      "text/plain": [
       "\"U R' B' U2 L B D2 R2 B R' B D L2 F2 R2 D2 B2 U R2 D F2\""
      ]
     },
     "execution_count": 25,
     "metadata": {},
     "output_type": "execute_result"
    },
    {
     "ename": "",
     "evalue": "",
     "output_type": "error",
     "traceback": [
      "\u001b[1;31mThe Kernel crashed while executing code in the the current cell or a previous cell. Please review the code in the cell(s) to identify a possible cause of the failure. Click <a href='https://aka.ms/vscodeJupyterKernelCrash'>here</a> for more info. View Jupyter <a href='command:jupyter.viewOutput'>log</a> for further details."
     ]
    }
   ],
   "source": [
    "rubiks_face = translate_string(kociemba_input)\n",
    "kociemba.solve(rubiks_face)"
   ]
  },
  {
   "cell_type": "code",
   "execution_count": 41,
   "metadata": {},
   "outputs": [
    {
     "name": "stdout",
     "output_type": "stream",
     "text": [
      "original string:  YOWGWGYWYGYORRRYYBBGRWGBGOBWGRWYOBBWOROROOOBRGBGYBWRYW\n",
      "kociemba.solve('DLUFUFDUDFDLRRRDDBBFRUFBFLBUFRUDLBBULRLRLLLBRFBFDBURDU')\n"
     ]
    },
    {
     "data": {
      "text/plain": [
       "\"D' R' F' L' D2 L' F2 B' L B2 U2 R2 F2 L2 D2 L2 F2\""
      ]
     },
     "execution_count": 41,
     "metadata": {},
     "output_type": "execute_result"
    }
   ],
   "source": [
    "rubiks_face = translate_string('YOWGWGYWYGYORRRYYBBGRWGBGOBWGRWYOBBWOROROOOBRGBGYBWRYW')\n",
    "kociemba.solve(rubiks_face)"
   ]
  },
  {
   "cell_type": "code",
   "execution_count": 7,
   "metadata": {},
   "outputs": [
    {
     "name": "stdout",
     "output_type": "stream",
     "text": [
      "original string:  WWWWWWWWWRRRRRRRRRGGGGGGGGGYYYYYYYYYOOOOOOOOOBBBBBBBBB\n",
      "kociemba.solve('UUUUUUUUURRRRRRRRRFFFFFFFFFDDDDDDDDDLLLLLLLLLBBBBBBBBB')\n"
     ]
    },
    {
     "data": {
      "text/plain": [
       "\"R L U2 R L' B2 U2 R2 F2 L2 D2 L2 F2\""
      ]
     },
     "execution_count": 7,
     "metadata": {},
     "output_type": "execute_result"
    }
   ],
   "source": [
    "rubiks_face = translate_string('WWWWWWWWWRRRRRRRRRGGGGGGGGGYYYYYYYYYOOOOOOOOOBBBBBBBBB')\n",
    "kociemba.solve(rubiks_face)"
   ]
  },
  {
   "cell_type": "code",
   "execution_count": null,
   "metadata": {},
   "outputs": [],
   "source": [
    "horizonal faces: \n",
    "L F R B\n",
    "\n",
    "vertical faces:\n",
    "U D\n",
    "\n",
    "x R, y W, z G,\n",
    "\n",
    "turn R/right, you can get to F U D \n",
    "turn W/top, you can get to L F R B"
   ]
  },
  {
   "cell_type": "code",
   "execution_count": 24,
   "metadata": {},
   "outputs": [],
   "source": [
    "'''\n",
    "    moves to make:\n",
    "    - face rotations:\n",
    "        90,\n",
    "        180 aka 90x2\n",
    "        -90\n",
    "    - cube movements:\n",
    "        +v, -v\n",
    "        +h, -h\n",
    "'''\n",
    "\n",
    "#permutations\n",
    "orientation_translate = {\n",
    "        'UD' : \"vv\",\n",
    "        'DU' : \"VV\",\n",
    "        'UL' : \"vh\",\n",
    "        'LU' : \"VH\",\n",
    "        \"UR\" : \"vH\",\n",
    "        'RU' : \"Vh\",\n",
    "        \"UF\" : \"v\",\n",
    "        \"FU\" : \"V\",\n",
    "        \"UB\" : \"vv\",\n",
    "        \"BU\" : \"VV\",\n",
    "        \"DL\" : \"Vh\",\n",
    "        \"LD\" : \"vH\",\n",
    "        \"DR\" : \"VH\",\n",
    "        \"RD\" : \"vh\",\n",
    "        \"DF\" : \"VV\",\n",
    "        \"FD\" : \"vv\",\n",
    "        \"DB\" : \"Vhh\",\n",
    "        \"BD\" : \"vHH\",\n",
    "        \"LR\" : \"HH\",\n",
    "        \"RL\" : \"hh\",\n",
    "        \"LF\" : \"HVV\",\n",
    "        \"FL\" : \"hvv\",\n",
    "        \"LB\" : \"Hv\",\n",
    "        \"BL\" : \"hV\",\n",
    "        \"RF\" : \"h\",\n",
    "        \"FR\" : \"H\",\n",
    "        \"RB\" : \"H\",\n",
    "        \"BR\" : \"h\",\n",
    "        \"FB\" : \"HH\",\n",
    "        \"BF\" : \"hh\"\n",
    "}"
   ]
  },
  {
   "cell_type": "code",
   "execution_count": 25,
   "metadata": {},
   "outputs": [],
   "source": [
    "a = \"R L U2 R L' B2 U2 R2 F2 L2 D2 L2 F2\"\n",
    "moves = list(a.split(' '))"
   ]
  },
  {
   "cell_type": "code",
   "execution_count": 26,
   "metadata": {},
   "outputs": [
    {
     "data": {
      "text/plain": [
       "['R', 'L', 'U2', 'R', \"L'\", 'B2', 'U2', 'R2', 'F2', 'L2', 'D2', 'L2', 'F2']"
      ]
     },
     "execution_count": 26,
     "metadata": {},
     "output_type": "execute_result"
    }
   ],
   "source": [
    "moves"
   ]
  },
  {
   "cell_type": "code",
   "execution_count": 27,
   "metadata": {},
   "outputs": [
    {
     "name": "stdout",
     "output_type": "stream",
     "text": [
      "FR\n",
      "translation: FR\n",
      "RL\n",
      "translation: RL\n",
      "LU2\n",
      "translation: LU2\n",
      "U2R\n",
      "translation: U2R\n",
      "RL'\n",
      "translation: RL'\n",
      "L'B2\n",
      "translation: L'B2\n",
      "B2U2\n",
      "translation: B2U2\n",
      "U2R2\n",
      "translation: U2R2\n",
      "R2F2\n",
      "translation: R2F2\n",
      "F2L2\n",
      "translation: F2L2\n",
      "L2D2\n",
      "translation: L2D2\n",
      "D2L2\n",
      "translation: D2L2\n",
      "L2F2\n",
      "translation: L2F2\n"
     ]
    }
   ],
   "source": [
    "orientation = 'F'\n",
    "\n",
    "for m in moves:\n",
    "    new_orientation = orientation + m\n",
    "    print(new_orientation)\n",
    "    print(\"translation:\", new_orientation.translate(orientation_translate))\n",
    "\n",
    "    orientation = m"
   ]
  },
  {
   "cell_type": "code",
   "execution_count": 28,
   "metadata": {},
   "outputs": [
    {
     "data": {
      "text/plain": [
       "'FR'"
      ]
     },
     "execution_count": 28,
     "metadata": {},
     "output_type": "execute_result"
    }
   ],
   "source": [
    "\"FR\".translate(orientation_translate)"
   ]
  },
  {
   "cell_type": "code",
   "execution_count": 46,
   "metadata": {},
   "outputs": [
    {
     "name": "stdout",
     "output_type": "stream",
     "text": [
      "for move R:\n",
      "turn R face\n",
      "['U', 'F', 'R'] \n",
      "\n",
      "for move L:\n",
      "turn by top face\n",
      "\tpick up block from top side and turn face 180\n",
      "\tmove L\n",
      "['U', 'B', 'L'] \n",
      "\n",
      "for move U:\n",
      "turn U face\n",
      "['U', 'B', 'L'] \n",
      "\n",
      "for move R:\n",
      "turn by top face\n",
      "\tpick up block from top side and turn face 180\n",
      "\tmove R\n",
      "['U', 'F', 'R'] \n",
      "\n",
      "for move L:\n",
      "turn by top face\n",
      "\tpick up block from top side and turn face 180\n",
      "\tmove L\n",
      "['U', 'B', 'L'] \n",
      "\n",
      "for move B:\n",
      "turn B face\n",
      "['U', 'B', 'L'] \n",
      "\n",
      "for move U:\n",
      "turn U face\n",
      "['U', 'B', 'L'] \n",
      "\n",
      "for move R:\n",
      "turn by top face\n",
      "\tpick up block from top side and turn face 180\n",
      "\tmove R\n",
      "['U', 'F', 'R'] \n",
      "\n",
      "for move F:\n",
      "turn F face\n",
      "['U', 'F', 'R'] \n",
      "\n",
      "for move L:\n",
      "turn by top face\n",
      "\tpick up block from top side and turn face 180\n",
      "\tmove L\n",
      "['U', 'B', 'L'] \n",
      "\n",
      "for move D:\n",
      "turn by right face\n",
      "\tpick up block from right side and turn 180\n",
      "\tmove D\n",
      "['F', 'D', 'L'] \n",
      "\n",
      "for move L:\n",
      "turn L face\n",
      "['F', 'D', 'L'] \n",
      "\n",
      "for move F:\n",
      "turn F face\n",
      "['F', 'D', 'L'] \n",
      "\n"
     ]
    }
   ],
   "source": [
    "orientation = ['U','F','R'] #W, G, R\n",
    "\n",
    "orient_translate = {\n",
    "\n",
    "}\n",
    "    \n",
    "def update_orientation(type, face):\n",
    "    global orientation\n",
    "\n",
    "    if type == \"top\":\n",
    "        print(\"\\tpick up block from top side and turn face 180\")\n",
    "        if orientation[1] == 'F':\n",
    "            orientation = [orientation[0],'B','L'] #W, B, O\n",
    "        elif orientation[1] == 'B':\n",
    "            orientation = ['U','F','R'] #W, G, R\n",
    "        print(f\"\\tmove {face}\")\n",
    "\n",
    "    elif type == \"right\":\n",
    "        print(\"\\tpick up block from right side and turn 180\")\n",
    "        if orientation[0] == 'U':\n",
    "            orientation = ['F','D',orientation[2]] #G, Y, R\n",
    "        elif orientation[1] == 'Y':\n",
    "            orientation = ['U','F',orientation[2]] #G, Y, R\n",
    "        print(f\"\\tmove {face}\")\n",
    "\n",
    "\n",
    "for m in new_moves:\n",
    "    print(f\"for move {m}:\")\n",
    "    if m in orientation:\n",
    "        print(f\"turn {m} face\")\n",
    "\n",
    "    else:\n",
    "        if m in ['F', 'U', 'D']:\n",
    "            print(\"turn by right face\")\n",
    "            update_orientation(\"right\", m)\n",
    "        elif m in ['L', 'R', 'B']:\n",
    "            print(\"turn by top face\")\n",
    "            update_orientation(\"top\", m)\n",
    "\n",
    "    print(orientation, \"\\n\")"
   ]
  },
  {
   "cell_type": "code",
   "execution_count": 34,
   "metadata": {},
   "outputs": [
    {
     "data": {
      "text/plain": [
       "['R', 'L', 'U', 'R', 'L', 'B', 'U', 'R', 'F', 'L', 'D', 'L', 'F']"
      ]
     },
     "execution_count": 34,
     "metadata": {},
     "output_type": "execute_result"
    }
   ],
   "source": [
    "new_moves=[]\n",
    "for m in moves:\n",
    "    new_moves.append(m[0])\n",
    "\n",
    "new_moves"
   ]
  },
  {
   "cell_type": "code",
   "execution_count": 43,
   "metadata": {},
   "outputs": [
    {
     "data": {
      "text/plain": [
       "['R', 'L', 'U2', 'R', \"L'\", 'B2', 'U2', 'R2', 'F2', 'L2', 'D2', 'L2', 'F2']"
      ]
     },
     "execution_count": 43,
     "metadata": {},
     "output_type": "execute_result"
    }
   ],
   "source": [
    "moves"
   ]
  },
  {
   "cell_type": "code",
   "execution_count": null,
   "metadata": {},
   "outputs": [],
   "source": []
  }
 ],
 "metadata": {
  "kernelspec": {
   "display_name": "Python 3",
   "language": "python",
   "name": "python3"
  },
  "language_info": {
   "codemirror_mode": {
    "name": "ipython",
    "version": 3
   },
   "file_extension": ".py",
   "mimetype": "text/x-python",
   "name": "python",
   "nbconvert_exporter": "python",
   "pygments_lexer": "ipython3",
   "version": "3.11.0"
  },
  "orig_nbformat": 4,
  "vscode": {
   "interpreter": {
    "hash": "aee8b7b246df8f9039afb4144a1f6fd8d2ca17a180786b69acc140d282b71a49"
   }
  }
 },
 "nbformat": 4,
 "nbformat_minor": 2
}
